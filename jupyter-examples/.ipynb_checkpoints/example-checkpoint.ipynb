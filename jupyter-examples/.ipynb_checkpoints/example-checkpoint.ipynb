{
 "cells": [
  {
   "cell_type": "code",
   "execution_count": 1,
   "metadata": {},
   "outputs": [],
   "source": [
    "import math\n",
    "import random\n",
    "\n",
    "from moe.easy_interface.experiment import Experiment\n",
    "from moe.easy_interface.simple_endpoint import gp_next_points\n",
    "from moe.optimal_learning.python.data_containers import SamplePoint\n",
    "from moe.optimal_learning.python.data_containers import SamplePoint\n",
    "\n",
    "# Note: this function can be anything, the output of a batch, results of an A/B experiment, the value of a physical experiment etc.\n",
    "def function_to_minimize(x):\n",
    "    \"\"\"Calculate an aribitrary 2-d function with some noise with minimum near [1, 2.6].\"\"\"\n",
    "    return math.sin(x[0]) * math.cos(x[1]) + math.cos(x[0] + x[1]) + random.uniform(-0.02, 0.02)\n",
    "\n",
    "\n",
    "def run_example(num_points_to_sample=20, verbose=True, **kwargs):\n",
    "    \"\"\"Run the example, aksing MOE for ``num_points_to_sample`` optimal points to sample.\"\"\"\n",
    "    exp = Experiment([[0, 2], [0, 4]])  # 2D experiment, we build a tensor product domain\n",
    "    # Bootstrap with some known or already sampled point(s)\n",
    "    exp.historical_data.append_sample_points([\n",
    "        SamplePoint([0, 0], function_to_minimize([0, 0]), 0.05),  # Iterables of the form [point, f_val, f_var] are also allowed\n",
    "        ])\n",
    "\n",
    "    # Sample num_points_to_sample points\n",
    "    for _ in range(num_points_to_sample):\n",
    "        # Use MOE to determine what is the point with highest Expected Improvement to use next\n",
    "        next_point_to_sample = gp_next_points(exp, **kwargs)[0]  # By default we only ask for one point\n",
    "        # Sample the point from our objective function, we can replace this with any function\n",
    "        value_of_next_point = function_to_minimize(next_point_to_sample)\n",
    "\n",
    "        if verbose:\n",
    "            print \"Sampled f({0:s}) = {1:.18E}\".format(str(next_point_to_sample), value_of_next_point)\n",
    "\n",
    "        # Add the information about the point to the experiment historical data to inform the GP\n",
    "        exp.historical_data.append_sample_points([SamplePoint(next_point_to_sample, value_of_next_point, 0.01)])  # We can add some noise\n",
    "\n",
    "\n",
    "run_example(\n",
    "    rest_host = '192.168.153.174', \n",
    "    rest_port = 6543)\n"
   ]
  }
 ],
 "metadata": {
  "kernelspec": {
   "display_name": "",
   "name": ""
  },
  "language_info": {
   "codemirror_mode": {
    "name": "ipython",
    "version": 2
   },
   "file_extension": ".py",
   "mimetype": "text/x-python",
   "name": "python",
   "nbconvert_exporter": "python",
   "pygments_lexer": "ipython2",
   "version": "2.7.12"
  }
 },
 "nbformat": 4,
 "nbformat_minor": 0
}
