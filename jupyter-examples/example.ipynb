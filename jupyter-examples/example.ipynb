{
 "cells": [
  {
   "cell_type": "code",
   "execution_count": 2,
   "metadata": {},
   "outputs": [
    {
     "name": "stdout",
     "output_type": "stream",
     "text": [
      "Sampled f([1.93688519208, 3.91174619801]) = 2.170331932994678248E-01\n",
      "Sampled f([0.0, 3.07183800833]) = -9.991971704795689080E-01\n",
      "Sampled f([0.0, 3.94538517597]) = -6.892369404317711945E-01\n",
      "Sampled f([0.730551155067, 2.54246665617]) = -1.556796592375570887E+00\n",
      "Sampled f([1.25757121602, 2.0429514434]) = -1.428119372149124766E+00\n",
      "Sampled f([0.58621352422, 2.04952037512]) = -1.121233126957198456E+00\n",
      "Sampled f([1.13431966479, 2.58208024838]) = -1.604710809072294353E+00\n",
      "Sampled f([1.03808853706, 2.5614000805]) = -1.621717281195065752E+00\n",
      "Sampled f([2.0, 2.29304233018]) = -1.011348890586352578E+00\n",
      "Sampled f([0.852678529805, 2.94558354202]) = -1.515442016112101387E+00\n",
      "Sampled f([1.05669604451, 2.53780648487]) = -1.603687983327912070E+00\n",
      "Sampled f([2.0, 0.621762118629]) = -1.433548021802988903E-01\n",
      "Sampled f([1.04149574083, 2.54355430286]) = -1.623797133545240579E+00\n",
      "Sampled f([1.03813329966, 2.54451694972]) = -1.624121012343889392E+00\n",
      "Sampled f([1.034114013, 2.54569777654]) = -1.602601578846504449E+00\n",
      "Sampled f([1.02767119018, 2.54756232907]) = -1.613514272595531596E+00\n",
      "Sampled f([1.02314338694, 2.54897478709]) = -1.598350168246570835E+00\n",
      "Sampled f([1.01196596439, 2.55192476445]) = -1.624583342042670520E+00\n",
      "Sampled f([1.07079737179, 2.54879582801]) = -1.599210509652398970E+00\n",
      "Sampled f([0.918317699922, 2.58819035501]) = -1.621322790439519990E+00\n"
     ]
    }
   ],
   "source": [
    "import math\n",
    "import random\n",
    "\n",
    "from moe.easy_interface.experiment import Experiment\n",
    "from moe.easy_interface.simple_endpoint import gp_next_points\n",
    "from moe.optimal_learning.python.data_containers import SamplePoint\n",
    "from moe.optimal_learning.python.data_containers import SamplePoint\n",
    "\n",
    "# Note: this function can be anything, the output of a batch, results of an A/B experiment, the value of a physical experiment etc.\n",
    "def function_to_minimize(x):\n",
    "    \"\"\"Calculate an aribitrary 2-d function with some noise with minimum near [1, 2.6].\"\"\"\n",
    "    return math.sin(x[0]) * math.cos(x[1]) + math.cos(x[0] + x[1]) + random.uniform(-0.02, 0.02)\n",
    "\n",
    "\n",
    "def run_example(num_points_to_sample=20, verbose=True, **kwargs):\n",
    "    \"\"\"Run the example, aksing MOE for ``num_points_to_sample`` optimal points to sample.\"\"\"\n",
    "    exp = Experiment([[0, 2], [0, 4]])  # 2D experiment, we build a tensor product domain\n",
    "    # Bootstrap with some known or already sampled point(s)\n",
    "    exp.historical_data.append_sample_points([\n",
    "        SamplePoint([0, 0], function_to_minimize([0, 0]), 0.05),  # Iterables of the form [point, f_val, f_var] are also allowed\n",
    "        ])\n",
    "\n",
    "    # Sample num_points_to_sample points\n",
    "    for _ in range(num_points_to_sample):\n",
    "        # Use MOE to determine what is the point with highest Expected Improvement to use next\n",
    "        next_point_to_sample = gp_next_points(exp, **kwargs)[0]  # By default we only ask for one point\n",
    "        # Sample the point from our objective function, we can replace this with any function\n",
    "        value_of_next_point = function_to_minimize(next_point_to_sample)\n",
    "\n",
    "        if verbose:\n",
    "            print \"Sampled f({0:s}) = {1:.18E}\".format(str(next_point_to_sample), value_of_next_point)\n",
    "\n",
    "        # Add the information about the point to the experiment historical data to inform the GP\n",
    "        exp.historical_data.append_sample_points([SamplePoint(next_point_to_sample, value_of_next_point, 0.01)])  # We can add some noise\n",
    "\n",
    "\n",
    "run_example(\n",
    "    rest_host = '192.168.153.174', \n",
    "    rest_port = 6543)\n"
   ]
  },
  {
   "cell_type": "code",
   "execution_count": null,
   "metadata": {},
   "outputs": [],
   "source": []
  }
 ],
 "metadata": {
  "kernelspec": {
   "display_name": "",
   "name": ""
  },
  "language_info": {
   "codemirror_mode": {
    "name": "ipython",
    "version": 2
   },
   "file_extension": ".py",
   "mimetype": "text/x-python",
   "name": "python",
   "nbconvert_exporter": "python",
   "pygments_lexer": "ipython2",
   "version": "2.7.12"
  }
 },
 "nbformat": 4,
 "nbformat_minor": 0
}
